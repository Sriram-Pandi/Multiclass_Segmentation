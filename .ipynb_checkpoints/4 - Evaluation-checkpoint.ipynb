{
 "cells": [
  {
   "cell_type": "markdown",
   "metadata": {},
   "source": [
    "# Evaluation"
   ]
  },
  {
   "cell_type": "markdown",
   "metadata": {},
   "source": [
    "<span  style=\"font-size: 20px; line-height: 30px;\">\n",
    "Calculate metrics:\n",
    "    \n",
    "<ol>\n",
    "    <li> F1 </li>\n",
    "    <li> Mean IoU </li>\n",
    "</ol>\n",
    "</span>"
   ]
  },
  {
   "cell_type": "markdown",
   "metadata": {},
   "source": [
    "## Import"
   ]
  },
  {
   "cell_type": "code",
   "execution_count": 1,
   "metadata": {},
   "outputs": [],
   "source": [
    "import os\n",
    "import numpy as np\n",
    "import cv2\n",
    "from glob import glob\n",
    "from tqdm import tqdm\n",
    "from sklearn.metrics import f1_score, jaccard_score"
   ]
  },
  {
   "cell_type": "markdown",
   "metadata": {},
   "source": [
    "## Hyperparameters"
   ]
  },
  {
   "cell_type": "code",
   "execution_count": 2,
   "metadata": {},
   "outputs": [],
   "source": [
    "height = 384\n",
    "width = 512"
   ]
  },
  {
   "cell_type": "markdown",
   "metadata": {},
   "source": [
    "## Load predict mask and ground truth Mask"
   ]
  },
  {
   "cell_type": "code",
   "execution_count": 3,
   "metadata": {},
   "outputs": [
    {
     "name": "stdout",
     "output_type": "stream",
     "text": [
      "Pred Mask: 70 - True Mask: 70\n"
     ]
    }
   ],
   "source": [
    "pred_mask = sorted(glob(os.path.join(\"prediction\", \"*\")))\n",
    "true_mask = sorted(glob(os.path.join(\"dataset\", \"test\", \"masks\", \"*\")))\n",
    "print(f\"Pred Mask: {len(pred_mask)} - True Mask: {len(true_mask)}\")"
   ]
  },
  {
   "cell_type": "markdown",
   "metadata": {},
   "source": [
    "## Colormap"
   ]
  },
  {
   "cell_type": "code",
   "execution_count": 4,
   "metadata": {},
   "outputs": [],
   "source": [
    "COLORMAP = [\n",
    "    [0, 0, 0],\n",
    "    [128, 0, 64],\n",
    "    [192, 0, 192],\n",
    "    [0, 64, 64],\n",
    "    [128, 64, 128],\n",
    "    [192, 0, 0],\n",
    "    [192, 128, 64],\n",
    "    [128, 64, 192],\n",
    "    [192, 128, 192],\n",
    "]\n",
    "\n",
    "CLASSES = [\n",
    "    \"Background\",\n",
    "    \"Car\",\n",
    "    \"MotorcycleScooter\",\n",
    "    \"Pedestrian\",\n",
    "    \"Road\",\n",
    "    \"Sidewalk\",\n",
    "    \"SUVPickupTruck\",\n",
    "    \"Train\",\n",
    "    \"Truck_Bus\"\n",
    "]"
   ]
  },
  {
   "cell_type": "markdown",
   "metadata": {},
   "source": [
    "## Calculate metrics"
   ]
  },
  {
   "cell_type": "code",
   "execution_count": 14,
   "metadata": {
    "scrolled": true
   },
   "outputs": [
    {
     "name": "stderr",
     "output_type": "stream",
     "text": [
      "100%|██████████████████████████████████████████████████████████████████████████████████████████████████████████████████████████████████████████████████████████████████████| 70/70 [00:18<00:00,  3.75it/s]\n"
     ]
    }
   ],
   "source": [
    "raw_score = []\n",
    "labels = [i for i in range(len(CLASSES))]\n",
    "\n",
    "for pred_y, true_y in tqdm(zip(pred_mask, true_mask), total=len(pred_mask)):\n",
    "    pred_y = cv2.imread(pred_y, cv2.IMREAD_GRAYSCALE)\n",
    "    pred_y = pred_y.astype(np.int32)\n",
    "    pred_y = pred_y.flatten()\n",
    "    \n",
    "    \n",
    "    mask = cv2.imread(true_y, cv2.IMREAD_COLOR)\n",
    "    true_y = []\n",
    "    for color in COLORMAP:\n",
    "        cmap = np.all(np.equal(mask, color), axis=-1)\n",
    "        true_y.append(cmap)\n",
    "    true_y = np.stack(true_y, axis=-1)\n",
    "    true_y = np.argmax(true_y, axis=-1)\n",
    "    true_y = true_y.astype(np.int32)\n",
    "    true_y = true_y.flatten()\n",
    "    \n",
    "    f1_value = f1_score(true_y, pred_y, labels=labels, average=None, zero_division=0)\n",
    "    jac_value = jaccard_score(true_y, pred_y, labels=labels, average=None, zero_division=0)\n",
    "    raw_score.append([f1_value, jac_value])"
   ]
  },
  {
   "cell_type": "code",
   "execution_count": 23,
   "metadata": {},
   "outputs": [
    {
     "name": "stdout",
     "output_type": "stream",
     "text": [
      "Class                F1         Jaccard   \n",
      "----------------------------------------\n",
      "Background          : 0.98090 - 0.96264\n",
      "Car                 : 0.81801 - 0.74153\n",
      "MotorcycleScooter   : 0.00000 - 0.00000\n",
      "Pedestrian          : 0.45772 - 0.35713\n",
      "Road                : 0.97001 - 0.94217\n",
      "Sidewalk            : 0.76987 - 0.70059\n",
      "SUVPickupTruck      : 0.17164 - 0.13472\n",
      "Train               : 0.00000 - 0.00000\n",
      "Truck_Bus           : 0.13156 - 0.11257\n",
      "----------------------------------------\n",
      "Mean                : 0.47775 - 0.43904\n"
     ]
    }
   ],
   "source": [
    "score = np.array(raw_score)\n",
    "score = np.mean(score, axis=0)\n",
    "\n",
    "f = open(os.path.join(\"files\", \"score.txt\"), \"w\")\n",
    "\n",
    "l = [\"Class\", \"F1\", \"Jaccard\"]\n",
    "dstr = f\"{l[0]:20s} {l[1]:10s} {l[2]:10s}\"\n",
    "print(dstr)\n",
    "f.write(f\"{dstr}\\n\")\n",
    "print(\"-\"*40)\n",
    "\n",
    "for i in range(score.shape[1]):\n",
    "    class_name = CLASSES[i]\n",
    "    f1 = score[0, i]\n",
    "    jac = score[1, i]\n",
    "    \n",
    "    dstr = f\"{class_name:20s}: {f1:1.5f} - {jac:1.5f}\"\n",
    "    print(dstr)\n",
    "    f.write(f\"{dstr}\\n\")\n",
    "\n",
    "print(\"-\"*40)\n",
    "class_mean = np.mean(score, axis=-1)\n",
    "class_name = \"Mean\"\n",
    "f1 = class_mean[0]\n",
    "jac = class_mean[1]\n",
    "\n",
    "dstr = f\"{class_name:20s}: {f1:1.5f} - {jac:1.5f}\"\n",
    "print(dstr)\n",
    "f.write(f\"{dstr}\\n\")\n",
    "\n",
    "f.close()"
   ]
  },
  {
   "cell_type": "code",
   "execution_count": null,
   "metadata": {},
   "outputs": [],
   "source": []
  }
 ],
 "metadata": {
  "kernelspec": {
   "display_name": "tf",
   "language": "python",
   "name": "tf"
  },
  "language_info": {
   "codemirror_mode": {
    "name": "ipython",
    "version": 3
   },
   "file_extension": ".py",
   "mimetype": "text/x-python",
   "name": "python",
   "nbconvert_exporter": "python",
   "pygments_lexer": "ipython3",
   "version": "3.10.4"
  }
 },
 "nbformat": 4,
 "nbformat_minor": 4
}
