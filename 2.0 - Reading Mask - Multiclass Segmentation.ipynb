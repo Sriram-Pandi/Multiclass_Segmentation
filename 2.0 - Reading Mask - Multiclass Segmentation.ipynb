{
 "cells": [
  {
   "cell_type": "markdown",
   "id": "34363037",
   "metadata": {},
   "source": [
    "# Reading Mask"
   ]
  },
  {
   "cell_type": "code",
   "execution_count": 1,
   "id": "4a97581d",
   "metadata": {},
   "outputs": [],
   "source": [
    "import cv2\n",
    "import numpy as np"
   ]
  },
  {
   "cell_type": "markdown",
   "id": "83737aa0",
   "metadata": {},
   "source": [
    "### Hyperparameters"
   ]
  },
  {
   "cell_type": "code",
   "execution_count": 2,
   "id": "16bbb6f2",
   "metadata": {},
   "outputs": [],
   "source": [
    "height = 384\n",
    "width = 512"
   ]
  },
  {
   "cell_type": "markdown",
   "id": "28fe1275",
   "metadata": {},
   "source": [
    "### Colormap"
   ]
  },
  {
   "cell_type": "code",
   "execution_count": 3,
   "id": "e1a06bc0",
   "metadata": {},
   "outputs": [],
   "source": [
    "COLORMAP = [\n",
    "    [0, 0, 0],\n",
    "    [128, 0, 64],\n",
    "    [192, 0, 192],\n",
    "    [0, 64, 64],\n",
    "    [128, 64, 128],\n",
    "    [192, 0, 0],\n",
    "    [192, 128, 64],\n",
    "    [128, 64, 192],\n",
    "    [192, 128, 192],\n",
    "]"
   ]
  },
  {
   "cell_type": "code",
   "execution_count": null,
   "id": "31dbbfa2",
   "metadata": {},
   "outputs": [],
   "source": []
  },
  {
   "cell_type": "code",
   "execution_count": 4,
   "id": "17f9fcd6",
   "metadata": {},
   "outputs": [],
   "source": [
    "ex_mask_path = \"dataset/test/masks/0001TP_007320.png\""
   ]
  },
  {
   "cell_type": "code",
   "execution_count": 17,
   "id": "cb3adfe0",
   "metadata": {},
   "outputs": [],
   "source": [
    "def normalizing_rgb_mask(path): \n",
    "    x = cv2.imread(path, cv2.IMREAD_COLOR)\n",
    "    x = cv2.resize(x, (width, height))\n",
    "    \n",
    "    output = []\n",
    "    for idx, color in enumerate(COLORMAP):\n",
    "        cmap = np.all(np.equal(x, color), axis=-1)\n",
    "        output.append(cmap)\n",
    "        \n",
    "    output = np.stack(output, axis=-1)\n",
    "    output = output.astype(np.int64)\n",
    "    \n",
    "    return output"
   ]
  },
  {
   "cell_type": "code",
   "execution_count": 18,
   "id": "d38ae22c",
   "metadata": {},
   "outputs": [
    {
     "name": "stdout",
     "output_type": "stream",
     "text": [
      "(384, 512, 9)\n"
     ]
    }
   ],
   "source": [
    "y = normalizing_rgb_mask(ex_mask_path)\n",
    "print(y.shape)"
   ]
  },
  {
   "cell_type": "code",
   "execution_count": null,
   "id": "97e0bffd",
   "metadata": {},
   "outputs": [],
   "source": []
  }
 ],
 "metadata": {
  "kernelspec": {
   "display_name": "tf",
   "language": "python",
   "name": "tf"
  },
  "language_info": {
   "codemirror_mode": {
    "name": "ipython",
    "version": 3
   },
   "file_extension": ".py",
   "mimetype": "text/x-python",
   "name": "python",
   "nbconvert_exporter": "python",
   "pygments_lexer": "ipython3",
   "version": "3.10.4"
  }
 },
 "nbformat": 4,
 "nbformat_minor": 5
}
