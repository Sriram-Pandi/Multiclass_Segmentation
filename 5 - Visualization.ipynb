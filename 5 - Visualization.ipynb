{
 "cells": [
  {
   "cell_type": "markdown",
   "metadata": {},
   "source": [
    "# Visualization"
   ]
  },
  {
   "cell_type": "markdown",
   "metadata": {},
   "source": [
    "## Import"
   ]
  },
  {
   "cell_type": "code",
   "execution_count": 1,
   "metadata": {},
   "outputs": [],
   "source": [
    "import os\n",
    "import numpy as np\n",
    "import cv2\n",
    "from glob import glob\n",
    "from tqdm import tqdm"
   ]
  },
  {
   "cell_type": "markdown",
   "metadata": {},
   "source": [
    "## Hyperparameters"
   ]
  },
  {
   "cell_type": "code",
   "execution_count": 2,
   "metadata": {},
   "outputs": [],
   "source": [
    "height = 384\n",
    "width = 512"
   ]
  },
  {
   "cell_type": "markdown",
   "metadata": {},
   "source": [
    "## Create folder to save data"
   ]
  },
  {
   "cell_type": "code",
   "execution_count": 3,
   "metadata": {},
   "outputs": [],
   "source": [
    "def create_dir(path):\n",
    "    if not os.path.exists(path):\n",
    "        os.makedirs(path)"
   ]
  },
  {
   "cell_type": "code",
   "execution_count": 4,
   "metadata": {},
   "outputs": [],
   "source": [
    "create_dir(\"results\")"
   ]
  },
  {
   "cell_type": "markdown",
   "metadata": {},
   "source": [
    "## Load Input image, ground truth mask and predict mask"
   ]
  },
  {
   "cell_type": "code",
   "execution_count": 5,
   "metadata": {},
   "outputs": [],
   "source": [
    "input_image = sorted(glob(os.path.join(\"dataset\", \"test\", \"images\", \"*\")))\n",
    "true_mask = sorted(glob(os.path.join(\"dataset\", \"test\", \"masks\", \"*\")))\n",
    "pred_mask = sorted(glob(os.path.join(\"prediction\", \"*\")))"
   ]
  },
  {
   "cell_type": "code",
   "execution_count": 6,
   "metadata": {},
   "outputs": [
    {
     "name": "stdout",
     "output_type": "stream",
     "text": [
      "Image: 70 - GT: 70 - Predicted: 70\n"
     ]
    }
   ],
   "source": [
    "print(f\"Image: {len(input_image)} - GT: {len(true_mask)} - Predicted: {len(pred_mask)}\")"
   ]
  },
  {
   "cell_type": "markdown",
   "metadata": {},
   "source": [
    "## Colormap"
   ]
  },
  {
   "cell_type": "code",
   "execution_count": 7,
   "metadata": {},
   "outputs": [],
   "source": [
    "COLORMAP = [\n",
    "    [0, 0, 0],\n",
    "    [128, 0, 64],\n",
    "    [192, 0, 192],\n",
    "    [0, 64, 64],\n",
    "    [128, 64, 128],\n",
    "    [192, 0, 0],\n",
    "    [192, 128, 64],\n",
    "    [128, 64, 192],\n",
    "    [192, 128, 192],\n",
    "]\n",
    "\n",
    "CLASSES = [\n",
    "    \"Background\",\n",
    "    \"Car\",\n",
    "    \"MotorcycleScooter\",\n",
    "    \"Pedestrian\",\n",
    "    \"Road\",\n",
    "    \"Sidewalk\",\n",
    "    \"SUVPickupTruck\",\n",
    "    \"Train\",\n",
    "    \"Truck_Bus\"\n",
    "]"
   ]
  },
  {
   "cell_type": "markdown",
   "metadata": {},
   "source": [
    "## Grayscale to RGB"
   ]
  },
  {
   "cell_type": "code",
   "execution_count": 8,
   "metadata": {},
   "outputs": [],
   "source": [
    "def grayscale_to_rgb(mask, colormap):\n",
    "    h, w = mask.shape\n",
    "    mask = mask.astype(np.int32)\n",
    "    mask = mask.flatten()\n",
    "    \n",
    "    output = []\n",
    "    for pixel in mask:\n",
    "        output.append(colormap[pixel])\n",
    "        \n",
    "    output = np.reshape(output, (h, w, 3))\n",
    "    return output"
   ]
  },
  {
   "cell_type": "markdown",
   "metadata": {},
   "source": [
    "## Visualize"
   ]
  },
  {
   "cell_type": "code",
   "execution_count": 14,
   "metadata": {},
   "outputs": [
    {
     "name": "stderr",
     "output_type": "stream",
     "text": [
      "100%|██████████████████████████████████████████████████████████████████████████████████████████████████████████████████████████████████████████████████████████████████████| 70/70 [00:22<00:00,  3.09it/s]\n"
     ]
    }
   ],
   "source": [
    "for i in tqdm(range(len(input_image))):\n",
    "    \"\"\" Extact item from the list \"\"\"\n",
    "    image = input_image[i]\n",
    "    ty = true_mask[i]\n",
    "    py = pred_mask[i]\n",
    "    \n",
    "    \"\"\" Extracting the name \"\"\"\n",
    "    name = image.split(\"/\")[-1]\n",
    "    \n",
    "    \"\"\" Reading the image \"\"\"\n",
    "    image = cv2.imread(image, cv2.IMREAD_COLOR)\n",
    "    image = image.astype(np.int32)\n",
    "    \n",
    "    \"\"\" Reading the GT mask \"\"\"\n",
    "    ty = cv2.imread(ty, cv2.IMREAD_COLOR)\n",
    "    ty = ty.astype(np.int32)\n",
    "    \n",
    "    \"\"\" Reading the predicted mask \"\"\"\n",
    "    py = cv2.imread(py, cv2.IMREAD_GRAYSCALE)\n",
    "    py = py.astype(np.int32)\n",
    "    py = grayscale_to_rgb(py, COLORMAP)\n",
    "    \n",
    "    \"\"\" Saving the images \"\"\"\n",
    "    line = np.ones((image.shape[0], 10, 3)) * 255\n",
    "    \n",
    "    cat_image = np.concatenate([image, line, ty, line, py], axis=1)\n",
    "    cv2.imwrite(os.path.join(\"results\", name), cat_image)"
   ]
  },
  {
   "cell_type": "code",
   "execution_count": null,
   "metadata": {},
   "outputs": [],
   "source": []
  }
 ],
 "metadata": {
  "kernelspec": {
   "display_name": "tf",
   "language": "python",
   "name": "tf"
  },
  "language_info": {
   "codemirror_mode": {
    "name": "ipython",
    "version": 3
   },
   "file_extension": ".py",
   "mimetype": "text/x-python",
   "name": "python",
   "nbconvert_exporter": "python",
   "pygments_lexer": "ipython3",
   "version": "3.10.4"
  }
 },
 "nbformat": 4,
 "nbformat_minor": 4
}
